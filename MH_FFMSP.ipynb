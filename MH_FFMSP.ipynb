{
 "cells": [
  {
   "cell_type": "markdown",
   "metadata": {},
   "source": [
    "# Heuristics for FFMSP"
   ]
  },
  {
   "cell_type": "code",
   "execution_count": 1,
   "metadata": {},
   "outputs": [],
   "source": [
    "import numpy as np"
   ]
  },
  {
   "cell_type": "markdown",
   "metadata": {},
   "source": [
    "### Utilities"
   ]
  },
  {
   "cell_type": "code",
   "execution_count": 38,
   "metadata": {
    "scrolled": true
   },
   "outputs": [
    {
     "name": "stdout",
     "output_type": "stream",
     "text": [
      "[3 3 2 1 2 1 0 1 1 2 1 0 3 0 1 3 2 2 3 2 3 2 2 3 2 0 2 3 0 3 0 0 3 3 2 2 0\n",
      " 0 3 0 0 1 1 3 2 2 2 3 3 3 0 2 2 0 0 1 1 1 0 2 2 2 3 1 0 1 0 0 3 1 2 3 3 1\n",
      " 0 0 1 1 2 1 0 0 1 1 1 1 3 2 2 0 3 2 2 2 3 0 3 2 1 1]\n",
      "[24 28 30 25 26 25 28 26 23 27 23 26 20 24 27 22 26 35 27 26 27 31 24 28\n",
      " 27 18 21 29 24 30 20 25 21 26 30 28 24 24 30 24 28 32 22 24 27 29 29 25\n",
      " 32 19 20 28 20 24 29 24 30 19 18 22 28 31 19 29 34 28 31 30 28 26 23 24\n",
      " 19 28 31 22 21 33 25 30 25 17 23 32 26 26 22 25 31 26 21 33 26 25 23 23\n",
      " 24 26 24 24 17 31 28 24 22 23 21 24 29 26 31 26 26 23 24 23 20 33 20 28\n",
      " 23 22 26 26 34 25 31 29 29 31 27 31 28 24 20 27 31 25 24 29 32 19 31 26\n",
      " 18 25 28 24 20 18 25 25 30 27 23 25 22 26 23 25 23 30 24 25 23 24 15 32\n",
      " 22 16 24 19 25 26 25 20 23 28 25 26 22 21 26 26 25 26 20 34 25 33 26 30\n",
      " 31 28 22 23 25 29 25 23 22 22 27 26 29 27 34 25 25 27 33 25 23 22 24 30\n",
      " 23 27 27 28 26 25 21 30 18 25 31 24 28 18 36 25 21 16 20 30 24 24 28 27\n",
      " 25 20 23 24 18 22 14 32 25 29 24 30 24 22 32 28 25 16 22 21 31 18 28 22\n",
      " 20 26 24 21 26 30 21 21 23 28 24 23 23 33 23 26 27 22 23 21 20 31 21 24\n",
      " 20 22 28 25 21 28 25 26 27 28 31 30]\n"
     ]
    }
   ],
   "source": [
    "filename = \"problem_instances/100-300-001.txt\"\n",
    "data = []\n",
    "mapper = {'A':0, 'C':1, 'T':2, 'G':3} #char to int\n",
    "rev_mapper = {0:'A', 1:'C' , 2:'T', 3:'G'} #int to char, whenever needed\n",
    "# read per char, for matrix data structure, while mapping ['A', 'C', 'T', 'G'] to [0,1,2,3] at the same time:\n",
    "with open(filename) as fileobj:\n",
    "    for line in fileobj:\n",
    "        d = []\n",
    "        line = line.rstrip(\"\\n\")\n",
    "        for ch in line:\n",
    "            mapch = mapping[ch]\n",
    "            d.append(mapch)\n",
    "        data.append(d)\n",
    "n = len(data); m = len(data[0])\n",
    "data = np.array(data)\n",
    "#count = np.char.count(data[0], 'A')\n",
    "count = np.count_nonzero(data == mapping['A'], axis=0)\n",
    "\n",
    "print(data[:,0])\n",
    "print(count)"
   ]
  },
  {
   "cell_type": "code",
   "execution_count": 52,
   "metadata": {},
   "outputs": [],
   "source": [
    "def f_obj(sol, data, threshold):\n",
    "    '''objective function of the FFMSP:\n",
    "    computes the hamming distance of the solution and each solution in the data,\n",
    "    if the count of hamming distances of sol and one sol from data >= t, then add 1 cardinality.\n",
    "    \n",
    "    returns: objective function value, scalar.\n",
    "    params:\n",
    "        - sol, vector of solution of FFMSP, shape = m\n",
    "        - data, matrix containing list of strings, shape = (n, m)\n",
    "        - threshold, [0, m], scalar.\n",
    "    '''\n",
    "    # init vars:\n",
    "    n = data.shape[0]; m = data.shape[1]\n",
    "    y = 0\n",
    "    \n",
    "    # compute the hamming distance of one cell of sol to all in data:\n",
    "    for i in range(n):\n",
    "        count_hamming = 1 if np.sum(np.equal(sol, data[i])) >= threshold else 0\n",
    "        y += count_hamming\n",
    "    return y"
   ]
  },
  {
   "cell_type": "code",
   "execution_count": 56,
   "metadata": {},
   "outputs": [
    {
     "data": {
      "text/plain": [
       "1"
      ]
     },
     "execution_count": 56,
     "metadata": {},
     "output_type": "execute_result"
    }
   ],
   "source": [
    "sol = np.array([0,1,3,3])\n",
    "dat = np.array([\n",
    "                [0, 1, 3, 3],\n",
    "                [0, 2, 0, 2],\n",
    "                [3, 1, 3, 0]\n",
    "                ])\n",
    "f_obj(sol, dat, 3)\n"
   ]
  },
  {
   "cell_type": "markdown",
   "metadata": {},
   "source": [
    "### Greedy algo"
   ]
  },
  {
   "cell_type": "code",
   "execution_count": null,
   "metadata": {},
   "outputs": [],
   "source": [
    "def greedy(data, alphabet, t):\n",
    "    '''\n",
    "    the simple greedy algo for FFMSP uses a consensus of each column (string position): \n",
    "    takes the char with the least occurence from all strings on each position - maximization problem. \n",
    "    \n",
    "    returns:\n",
    "        - solution vector, shape = m\n",
    "        - objective function, scalar\n",
    "    params:\n",
    "        - data, matrix containing list of strings, shape = (n, m)\n",
    "        - alphabet, vector (mathematically, a set), shape = len(alphabet)\n",
    "        - threshold t, \n",
    "    '''\n",
    "    # count the occurences of each alphabet column wise:\n",
    "    n = data.shape[0]; m = data.shape[1]\n",
    "    counts = np.zeros(alpha, m) # matrix with (len(alphabet), m)\n",
    "    for alpha in alphabet:\n",
    "        count = np.count_nonzero(data == 'A', axis=0)\n",
    "        print(count)\n",
    "        #.........."
   ]
  }
 ],
 "metadata": {
  "kernelspec": {
   "display_name": "Python 3",
   "language": "python",
   "name": "python3"
  },
  "language_info": {
   "codemirror_mode": {
    "name": "ipython",
    "version": 3
   },
   "file_extension": ".py",
   "mimetype": "text/x-python",
   "name": "python",
   "nbconvert_exporter": "python",
   "pygments_lexer": "ipython3",
   "version": "3.7.3"
  }
 },
 "nbformat": 4,
 "nbformat_minor": 2
}
